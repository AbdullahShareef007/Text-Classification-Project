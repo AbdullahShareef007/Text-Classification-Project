{
  "nbformat": 4,
  "nbformat_minor": 0,
  "metadata": {
    "colab": {
      "provenance": [],
      "authorship_tag": "ABX9TyPNkwtWiexjUjrIZ6kLaw5u",
      "include_colab_link": true
    },
    "kernelspec": {
      "name": "python3",
      "display_name": "Python 3"
    },
    "language_info": {
      "name": "python"
    }
  },
  "cells": [
    {
      "cell_type": "markdown",
      "metadata": {
        "id": "view-in-github",
        "colab_type": "text"
      },
      "source": [
        "<a href=\"https://colab.research.google.com/github/AbdullahShareef007/Text-Classification-Project/blob/main/Cleaning%20data%20code.ipynb\" target=\"_parent\"><img src=\"https://colab.research.google.com/assets/colab-badge.svg\" alt=\"Open In Colab\"/></a>"
      ]
    },
    {
      "cell_type": "code",
      "execution_count": 7,
      "metadata": {
        "id": "55MqSJREAW9X"
      },
      "outputs": [],
      "source": [
        "import nltk\n",
        "import pandas as pd\n",
        "import re\n",
        "\n",
        "file_path = '/content/data.csv'\n",
        "df= pd.read_csv(file_path)\n",
        "df['text']= df['text'].str.lower()\n",
        "df['text']= df['text'].str.strip()\n",
        "df.dropna(axis=0,inplace=True)\n",
        "df.drop_duplicates(inplace= True)\n",
        "df['text'] = df['text'].apply(lambda x: re.sub(r'[^\\w\\s]', '', x))\n",
        "df['text'] = df['text'].apply(lambda x: re.sub(r'[^\\x00-\\x7F]', '', x))\n",
        "\n",
        "\n",
        "df['text'] = df['text'].apply(lambda x: re.sub(r'[^a-zA-Z\\s]', '', x))\n",
        "df['text'] = df['text'].apply(lambda x: re.sub(r'[^\\x00-\\x7F]', '', x))\n",
        "df['text'] = df['text'].apply(lambda x: re.sub(r'[^a-zA-Z\\s]', '', x))\n",
        "df= df.dropna()"
      ]
    },
    {
      "cell_type": "code",
      "source": [
        "df.to_csv('/content/cleaned_data.csv')"
      ],
      "metadata": {
        "id": "E4zGy2E_Aow9"
      },
      "execution_count": 9,
      "outputs": []
    },
    {
      "cell_type": "code",
      "source": [],
      "metadata": {
        "id": "Hl_Y4UEeHWT3"
      },
      "execution_count": 33,
      "outputs": []
    },
    {
      "cell_type": "code",
      "source": [],
      "metadata": {
        "id": "jZ7qf8E0HY6f"
      },
      "execution_count": null,
      "outputs": []
    }
  ]
}